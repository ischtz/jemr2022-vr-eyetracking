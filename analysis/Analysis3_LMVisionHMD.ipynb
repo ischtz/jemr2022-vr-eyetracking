{
 "cells": [
  {
   "cell_type": "markdown",
   "id": "36936913-5979-43b6-866e-3121523b09b3",
   "metadata": {},
   "source": [
    "# Vive Pro Eye Evaluation - Linear Model for Vision Correction x HMD"
   ]
  },
  {
   "cell_type": "markdown",
   "id": "dde75837-6c88-4a74-9805-ffd68c6c59af",
   "metadata": {},
   "source": [
    "This notebook reproduces the following figures and results from the manuscript: \n",
    "\n",
    "- Linear model results for the factors vision correction x HMD, applied to accuracy and SD precision\n",
    "- Figure 6: LMM results / estimated marginal means\n",
    "\n",
    "Running this notebook requires the `rpy2` Python package and a working R installation. Model statistics are reported directly in the R output, while estimated marginal means are extracted and plotted in Figure 6. Requires the following R packages: `lme4`, `sjstats`, `pwr`, `emmeans`"
   ]
  },
  {
   "cell_type": "code",
   "execution_count": 1,
   "id": "55561f13-39b8-4a2a-af5d-75fda9361444",
   "metadata": {},
   "outputs": [
    {
     "name": "stdout",
     "output_type": "stream",
     "text": [
      "Note: vexptoolbox is not running under Vizard, or Vizard packages could not be imported. Only analysis tools will be available.\n"
     ]
    }
   ],
   "source": [
    "import pickle\n",
    "\n",
    "import numpy as np\n",
    "import pandas as pd\n",
    "import matplotlib.pyplot as plt\n",
    "\n",
    "from matplotlib.colors import Normalize\n",
    "from matplotlib.cm import ScalarMappable\n",
    "from matplotlib.offsetbox import TextArea, DrawingArea, OffsetImage, AnnotationBbox\n",
    "from mpl_toolkits.axes_grid1 import make_axes_locatable\n",
    "\n",
    "from scipy.stats import linregress\n",
    "\n",
    "from analysis import * \n",
    "\n",
    "FIGTYPES = ['png']\n"
   ]
  },
  {
   "cell_type": "code",
   "execution_count": 2,
   "id": "df53d68e-c548-4416-8ded-933a440ad8f2",
   "metadata": {},
   "outputs": [
    {
     "name": "stdout",
     "output_type": "stream",
     "text": [
      "Data loaded from pickles.\n"
     ]
    }
   ],
   "source": [
    "# Folders\n",
    "folder_pkl = '.'\n",
    "folder_results = '../results'\n",
    "\n",
    "# Load preprocessed data\n",
    "(tar, tar_i10, val, pp, sam) = load_pickle_data(folder_pkl)\n"
   ]
  },
  {
   "cell_type": "markdown",
   "id": "5a391581-acf7-434f-b1f2-f27dea3a7bc8",
   "metadata": {},
   "source": [
    "## Linear Model for Accuracy (R)"
   ]
  },
  {
   "cell_type": "code",
   "execution_count": 12,
   "id": "dfd7334c-5c84-4114-9f88-283dd004b6cd",
   "metadata": {},
   "outputs": [
    {
     "name": "stdout",
     "output_type": "stream",
     "text": [
      "The rpy2.ipython extension is already loaded. To reload it, use:\n",
      "  %reload_ext rpy2.ipython\n"
     ]
    }
   ],
   "source": [
    "# Initialize rpy2 extension for Jupyter (enables R code cells)\n",
    "%load_ext rpy2.ipython\n",
    "\n",
    "# rpy2 on Windows likes to throw error pop-ups about utf-8 decoding, suppress these here\n",
    "from rpy2.rinterface_lib.callbacks import logger as rpy2_logger\n",
    "import logging\n",
    "rpy2_logger.setLevel(logging.CRITICAL)\n"
   ]
  },
  {
   "cell_type": "code",
   "execution_count": 13,
   "id": "72a963b0-f1fa-4b45-982d-2a98c0e2814f",
   "metadata": {},
   "outputs": [
    {
     "name": "stdout",
     "output_type": "stream",
     "text": [
      "[1] \"R version 4.0.3 (2020-10-10)\"\n"
     ]
    }
   ],
   "source": [
    "%%R\n",
    "print(R.version$version)\n"
   ]
  },
  {
   "cell_type": "code",
   "execution_count": 14,
   "id": "7a5318f1-2158-4e30-b5f7-a0103c5e1a48",
   "metadata": {},
   "outputs": [
    {
     "name": "stdout",
     "output_type": "stream",
     "text": [
      "* ANOVA Omnibus Results + Statistics: Accuracy\n",
      "Call:\n",
      "lm(formula = formula, data = val)\n",
      "\n",
      "Residuals:\n",
      "    Min      1Q  Median      3Q     Max \n",
      "-0.6581 -0.2124 -0.0324  0.1635  1.8614 \n",
      "\n",
      "Coefficients:\n",
      "                      Estimate Std. Error t value Pr(>|t|)    \n",
      "(Intercept)            0.82634    0.15288   5.405 2.11e-07 ***\n",
      "visionglasses          0.15041    0.21621   0.696    0.488    \n",
      "visionuncorrected     -0.27621    0.21621  -1.277    0.203    \n",
      "hmd                    0.10041    0.09669   1.038    0.301    \n",
      "visionglasses:hmd      0.17397    0.13674   1.272    0.205    \n",
      "visionuncorrected:hmd  0.15708    0.13674   1.149    0.252    \n",
      "---\n",
      "Signif. codes:  0 '***' 0.001 '**' 0.01 '*' 0.05 '.' 0.1 ' ' 1\n",
      "\n",
      "Residual standard error: 0.3745 on 174 degrees of freedom\n",
      "Multiple R-squared:  0.2861,\tAdjusted R-squared:  0.2655 \n",
      "F-statistic: 13.94 on 5 and 174 DF,  p-value: 1.847e-11\n",
      "\n",
      "term       |  df |  sumsq | meansq | statistic | p.value | etasq | partial.etasq | omegasq | partial.omegasq | epsilonsq | cohens.f | power\n",
      "-------------------------------------------------------------------------------------------------------------------------------------------\n",
      "vision     |   2 |  7.502 |  3.751 |    26.748 |  < .001 | 0.220 |         0.235 |   0.210 |           0.222 |     0.211 |    0.554 | 1.000\n",
      "hmd        |   1 |  1.999 |  1.999 |    14.253 |  < .001 | 0.058 |         0.076 |   0.054 |           0.069 |     0.054 |    0.286 | 0.965\n",
      "vision:hmd |   2 |  0.276 |  0.138 |     0.984 |   0.376 | 0.008 |         0.011 |   0.000 |           0.000 |     0.000 |    0.106 | 0.223\n",
      "Residuals  | 174 | 24.402 |  0.140 |           |         |       |               |         |                 |           |          |      \n",
      "\n",
      "\n",
      "* Post-Hoc Comparisons: Accuracy"
     ]
    },
    {
     "name": "stderr",
     "output_type": "stream",
     "text": [
      "C:\\ProgramData\\Anaconda3\\lib\\site-packages\\pandas\\core\\arrays\\datetimes.py:2192: PytzUsageWarning: The zone attribute is specific to pytz's interface; please migrate to a new time zone provider. For more details on how to do so, see https://pytz-deprecation-shim.readthedocs.io/en/latest/migration.html\n",
      "  values, tz_parsed = conversion.datetime_to_datetime64(data.ravel(\"K\"))\n"
     ]
    },
    {
     "name": "stdout",
     "output_type": "stream",
     "text": [
      " contrast               estimate     SE  df t.ratio p.value\n",
      " contacts - glasses      -0.4114 0.0684 174 -6.017  <.0001 \n",
      " contacts - uncorrected   0.0406 0.0684 174  0.594  0.5536 \n",
      " glasses - uncorrected    0.4519 0.0684 174  6.610  <.0001 \n",
      "\n",
      "Results are averaged over the levels of: hmd \n",
      "P value adjustment: holm method for 3 tests \n",
      " contrast estimate     SE  df t.ratio p.value\n",
      " 1 - 2      -0.211 0.0558 174 -3.775  0.0002 \n",
      "\n",
      "Results are averaged over the levels of: vision \n"
     ]
    }
   ],
   "source": [
    "%%R -i val -o em_acc\n",
    "\n",
    "library('lme4')\n",
    "library('emmeans')\n",
    "library('sjstats')\n",
    "\n",
    "formula <- acc_nomonoc ~ 1 + vision + hmd + vision:hmd\n",
    "model_acc <- lm(data=val, formula)\n",
    "\n",
    "# Model + Anova results\n",
    "cat('* ANOVA Omnibus Results + Statistics: Accuracy')\n",
    "print(summary(model_acc))\n",
    "print(anova_stats(model_acc))\n",
    "\n",
    "# Post-Hoc Tests\n",
    "cat('\\n\\n* Post-Hoc Comparisons: Accuracy')\n",
    "print(emmeans(model_acc, pairwise ~ vision, adjust=\"holm\")$contrasts)\n",
    "print(emmeans(model_acc, pairwise ~ hmd, adjust=\"holm\")$contrasts)\n",
    "\n",
    "# Export estimated marginal means (for Figure 6)\n",
    "em_acc <- summary(emmeans(model_acc, specs = ~ 'vision * hmd'))\n"
   ]
  },
  {
   "cell_type": "markdown",
   "id": "9c7d1dfc-88f7-4e6a-b0a6-7a80aab3a2c7",
   "metadata": {},
   "source": [
    "## Linear Model for SD Precision (R)"
   ]
  },
  {
   "cell_type": "code",
   "execution_count": 15,
   "id": "971ef71b-5736-4ef3-9e0f-f7a6e1de73a0",
   "metadata": {},
   "outputs": [
    {
     "name": "stdout",
     "output_type": "stream",
     "text": [
      "* ANOVA Omnibus Results + Statistics: SD Precision\n",
      "Call:\n",
      "lm(formula = formula, data = val)\n",
      "\n",
      "Residuals:\n",
      "     Min       1Q   Median       3Q      Max \n",
      "-0.39685 -0.10503 -0.03798  0.02711  1.79243 \n",
      "\n",
      "Coefficients:\n",
      "                       Estimate Std. Error t value Pr(>|t|)  \n",
      "(Intercept)            0.139953   0.116238   1.204   0.2302  \n",
      "visionglasses          0.397210   0.164385   2.416   0.0167 *\n",
      "visionuncorrected      0.124806   0.164385   0.759   0.4487  \n",
      "hmd                    0.062827   0.073515   0.855   0.3939  \n",
      "visionglasses:hmd     -0.008653   0.103966  -0.083   0.9338  \n",
      "visionuncorrected:hmd -0.058055   0.103966  -0.558   0.5773  \n",
      "---\n",
      "Signif. codes:  0 '***' 0.001 '**' 0.01 '*' 0.05 '.' 0.1 ' ' 1\n",
      "\n",
      "Residual standard error: 0.2847 on 174 degrees of freedom\n",
      "Multiple R-squared:   0.28,\tAdjusted R-squared:  0.2593 \n",
      "F-statistic: 13.53 on 5 and 174 DF,  p-value: 3.729e-11\n",
      "\n",
      "term       |  df |  sumsq | meansq | statistic | p.value | etasq | partial.etasq | omegasq | partial.omegasq | epsilonsq | cohens.f | power\n",
      "-------------------------------------------------------------------------------------------------------------------------------------------\n",
      "vision     |   2 |  5.382 |  2.691 |    33.197 |  < .001 | 0.275 |         0.276 |   0.265 |           0.263 |     0.266 |    0.618 | 1.000\n",
      "hmd        |   1 |  0.074 |  0.074 |     0.915 |   0.340 | 0.004 |         0.005 |   0.000 |           0.000 |     0.000 |    0.073 | 0.160\n",
      "vision:hmd |   2 |  0.029 |  0.015 |     0.182 |   0.834 | 0.002 |         0.002 |  -0.007 |          -0.009 |    -0.007 |    0.046 | 0.078\n",
      "Residuals  | 174 | 14.106 |  0.081 |           |         |       |               |         |                 |           |          |      \n",
      "\n",
      "\n",
      "* Post-Hoc Comparisons: SD Precision contrast               estimate    SE  df t.ratio p.value\n",
      " contacts - glasses      -0.3842 0.052 174 -7.391  <.0001 \n",
      " contacts - uncorrected  -0.0377 0.052 174 -0.726  0.4690 \n",
      " glasses - uncorrected    0.3465 0.052 174  6.666  <.0001 \n",
      "\n"
     ]
    },
    {
     "name": "stderr",
     "output_type": "stream",
     "text": [
      "C:\\ProgramData\\Anaconda3\\lib\\site-packages\\pandas\\core\\arrays\\datetimes.py:2192: PytzUsageWarning: The zone attribute is specific to pytz's interface; please migrate to a new time zone provider. For more details on how to do so, see https://pytz-deprecation-shim.readthedocs.io/en/latest/migration.html\n",
      "  values, tz_parsed = conversion.datetime_to_datetime64(data.ravel(\"K\"))\n"
     ]
    },
    {
     "name": "stdout",
     "output_type": "stream",
     "text": [
      "Results are averaged over the levels of: hmd \n",
      "P value adjustment: holm method for 3 tests \n",
      " contrast estimate     SE  df t.ratio p.value\n",
      " 1 - 2     -0.0406 0.0424 174 -0.956  0.3402 \n",
      "\n",
      "Results are averaged over the levels of: vision \n"
     ]
    }
   ],
   "source": [
    "%%R -i val -o em_sd\n",
    "\n",
    "library('lme4')\n",
    "library('emmeans')\n",
    "library('sjstats')\n",
    "\n",
    "formula <- sd_nomonoc ~ 1 + vision + hmd + vision:hmd\n",
    "model_sd <- lm(data=val, formula)\n",
    "\n",
    "# Model + Anova results\n",
    "cat('* ANOVA Omnibus Results + Statistics: SD Precision')\n",
    "print(summary(model_sd))\n",
    "print(anova_stats(model_sd))\n",
    "\n",
    "# Post-Hoc Tests\n",
    "cat('\\n\\n* Post-Hoc Comparisons: SD Precision')\n",
    "print(emmeans(model_sd, pairwise ~ vision, adjust=\"holm\")$contrasts)\n",
    "print(emmeans(model_sd, pairwise ~ hmd, adjust=\"holm\")$contrasts)\n",
    "\n",
    "# Export estimated marginal means (for Figure 6)\n",
    "em_sd <- summary(emmeans(model_sd, specs = ~ 'vision * hmd'))\n"
   ]
  },
  {
   "cell_type": "code",
   "execution_count": 16,
   "id": "283d3106-c79b-41bc-a17e-8f80c837c710",
   "metadata": {},
   "outputs": [
    {
     "data": {
      "text/html": [
       "<div>\n",
       "<style scoped>\n",
       "    .dataframe tbody tr th:only-of-type {\n",
       "        vertical-align: middle;\n",
       "    }\n",
       "\n",
       "    .dataframe tbody tr th {\n",
       "        vertical-align: top;\n",
       "    }\n",
       "\n",
       "    .dataframe thead th {\n",
       "        text-align: right;\n",
       "    }\n",
       "</style>\n",
       "<table border=\"1\" class=\"dataframe\">\n",
       "  <thead>\n",
       "    <tr style=\"text-align: right;\">\n",
       "      <th></th>\n",
       "      <th>vision</th>\n",
       "      <th>hmd</th>\n",
       "      <th>emmean</th>\n",
       "      <th>SE</th>\n",
       "      <th>df</th>\n",
       "      <th>lower.CL</th>\n",
       "      <th>upper.CL</th>\n",
       "    </tr>\n",
       "  </thead>\n",
       "  <tbody>\n",
       "    <tr>\n",
       "      <th>1</th>\n",
       "      <td>contacts</td>\n",
       "      <td>1.0</td>\n",
       "      <td>0.927</td>\n",
       "      <td>0.068</td>\n",
       "      <td>174.0</td>\n",
       "      <td>0.792</td>\n",
       "      <td>1.062</td>\n",
       "    </tr>\n",
       "    <tr>\n",
       "      <th>2</th>\n",
       "      <td>glasses</td>\n",
       "      <td>1.0</td>\n",
       "      <td>1.251</td>\n",
       "      <td>0.068</td>\n",
       "      <td>174.0</td>\n",
       "      <td>1.116</td>\n",
       "      <td>1.386</td>\n",
       "    </tr>\n",
       "    <tr>\n",
       "      <th>3</th>\n",
       "      <td>uncorrected</td>\n",
       "      <td>1.0</td>\n",
       "      <td>0.808</td>\n",
       "      <td>0.068</td>\n",
       "      <td>174.0</td>\n",
       "      <td>0.673</td>\n",
       "      <td>0.943</td>\n",
       "    </tr>\n",
       "    <tr>\n",
       "      <th>4</th>\n",
       "      <td>contacts</td>\n",
       "      <td>2.0</td>\n",
       "      <td>1.027</td>\n",
       "      <td>0.068</td>\n",
       "      <td>174.0</td>\n",
       "      <td>0.892</td>\n",
       "      <td>1.162</td>\n",
       "    </tr>\n",
       "    <tr>\n",
       "      <th>5</th>\n",
       "      <td>glasses</td>\n",
       "      <td>2.0</td>\n",
       "      <td>1.525</td>\n",
       "      <td>0.068</td>\n",
       "      <td>174.0</td>\n",
       "      <td>1.391</td>\n",
       "      <td>1.660</td>\n",
       "    </tr>\n",
       "    <tr>\n",
       "      <th>6</th>\n",
       "      <td>uncorrected</td>\n",
       "      <td>2.0</td>\n",
       "      <td>1.065</td>\n",
       "      <td>0.068</td>\n",
       "      <td>174.0</td>\n",
       "      <td>0.930</td>\n",
       "      <td>1.200</td>\n",
       "    </tr>\n",
       "  </tbody>\n",
       "</table>\n",
       "</div>"
      ],
      "text/plain": [
       "        vision  hmd  emmean     SE     df  lower.CL  upper.CL\n",
       "1     contacts  1.0   0.927  0.068  174.0     0.792     1.062\n",
       "2      glasses  1.0   1.251  0.068  174.0     1.116     1.386\n",
       "3  uncorrected  1.0   0.808  0.068  174.0     0.673     0.943\n",
       "4     contacts  2.0   1.027  0.068  174.0     0.892     1.162\n",
       "5      glasses  2.0   1.525  0.068  174.0     1.391     1.660\n",
       "6  uncorrected  2.0   1.065  0.068  174.0     0.930     1.200"
      ]
     },
     "execution_count": 16,
     "metadata": {},
     "output_type": "execute_result"
    }
   ],
   "source": [
    "# Estimated Marginal Means - Accuracy\n",
    "round(em_acc, 3)"
   ]
  },
  {
   "cell_type": "code",
   "execution_count": 17,
   "id": "440ba821-041b-4c61-98ee-8f5a4f956d80",
   "metadata": {
    "tags": []
   },
   "outputs": [
    {
     "data": {
      "text/html": [
       "<div>\n",
       "<style scoped>\n",
       "    .dataframe tbody tr th:only-of-type {\n",
       "        vertical-align: middle;\n",
       "    }\n",
       "\n",
       "    .dataframe tbody tr th {\n",
       "        vertical-align: top;\n",
       "    }\n",
       "\n",
       "    .dataframe thead th {\n",
       "        text-align: right;\n",
       "    }\n",
       "</style>\n",
       "<table border=\"1\" class=\"dataframe\">\n",
       "  <thead>\n",
       "    <tr style=\"text-align: right;\">\n",
       "      <th></th>\n",
       "      <th>vision</th>\n",
       "      <th>hmd</th>\n",
       "      <th>emmean</th>\n",
       "      <th>SE</th>\n",
       "      <th>df</th>\n",
       "      <th>lower.CL</th>\n",
       "      <th>upper.CL</th>\n",
       "    </tr>\n",
       "  </thead>\n",
       "  <tbody>\n",
       "    <tr>\n",
       "      <th>1</th>\n",
       "      <td>contacts</td>\n",
       "      <td>1.0</td>\n",
       "      <td>0.203</td>\n",
       "      <td>0.052</td>\n",
       "      <td>174.0</td>\n",
       "      <td>0.100</td>\n",
       "      <td>0.305</td>\n",
       "    </tr>\n",
       "    <tr>\n",
       "      <th>2</th>\n",
       "      <td>glasses</td>\n",
       "      <td>1.0</td>\n",
       "      <td>0.591</td>\n",
       "      <td>0.052</td>\n",
       "      <td>174.0</td>\n",
       "      <td>0.489</td>\n",
       "      <td>0.694</td>\n",
       "    </tr>\n",
       "    <tr>\n",
       "      <th>3</th>\n",
       "      <td>uncorrected</td>\n",
       "      <td>1.0</td>\n",
       "      <td>0.270</td>\n",
       "      <td>0.052</td>\n",
       "      <td>174.0</td>\n",
       "      <td>0.167</td>\n",
       "      <td>0.372</td>\n",
       "    </tr>\n",
       "    <tr>\n",
       "      <th>4</th>\n",
       "      <td>contacts</td>\n",
       "      <td>2.0</td>\n",
       "      <td>0.266</td>\n",
       "      <td>0.052</td>\n",
       "      <td>174.0</td>\n",
       "      <td>0.163</td>\n",
       "      <td>0.368</td>\n",
       "    </tr>\n",
       "    <tr>\n",
       "      <th>5</th>\n",
       "      <td>glasses</td>\n",
       "      <td>2.0</td>\n",
       "      <td>0.646</td>\n",
       "      <td>0.052</td>\n",
       "      <td>174.0</td>\n",
       "      <td>0.543</td>\n",
       "      <td>0.748</td>\n",
       "    </tr>\n",
       "    <tr>\n",
       "      <th>6</th>\n",
       "      <td>uncorrected</td>\n",
       "      <td>2.0</td>\n",
       "      <td>0.274</td>\n",
       "      <td>0.052</td>\n",
       "      <td>174.0</td>\n",
       "      <td>0.172</td>\n",
       "      <td>0.377</td>\n",
       "    </tr>\n",
       "  </tbody>\n",
       "</table>\n",
       "</div>"
      ],
      "text/plain": [
       "        vision  hmd  emmean     SE     df  lower.CL  upper.CL\n",
       "1     contacts  1.0   0.203  0.052  174.0     0.100     0.305\n",
       "2      glasses  1.0   0.591  0.052  174.0     0.489     0.694\n",
       "3  uncorrected  1.0   0.270  0.052  174.0     0.167     0.372\n",
       "4     contacts  2.0   0.266  0.052  174.0     0.163     0.368\n",
       "5      glasses  2.0   0.646  0.052  174.0     0.543     0.748\n",
       "6  uncorrected  2.0   0.274  0.052  174.0     0.172     0.377"
      ]
     },
     "execution_count": 17,
     "metadata": {},
     "output_type": "execute_result"
    }
   ],
   "source": [
    "# Estimated Marginal Means - SD Precision\n",
    "round(em_sd, 3)"
   ]
  },
  {
   "cell_type": "markdown",
   "id": "a83df00d-e3a3-4f28-b01c-a88512092421",
   "metadata": {},
   "source": [
    "## Figure 6: Linear Model results"
   ]
  },
  {
   "cell_type": "code",
   "execution_count": 18,
   "id": "1a2c9212-5845-4c53-8d57-d50e04444aae",
   "metadata": {},
   "outputs": [],
   "source": [
    "# Restructure the R results into the same dict structure used for plot\n",
    "emmeans_acc = {1: {'mean': [em_acc.loc[(em_acc.vision == 'uncorrected') & (em_acc.hmd == 1), 'emmean'].values[0],\n",
    "                            em_acc.loc[(em_acc.vision == 'contacts') & (em_acc.hmd == 1), 'emmean'].values[0],\n",
    "                            em_acc.loc[(em_acc.vision == 'glasses') & (em_acc.hmd == 1), 'emmean'].values[0]], \n",
    "                   'sem':  [em_acc.loc[(em_acc.vision == 'uncorrected') & (em_acc.hmd == 1), 'SE'].values[0],\n",
    "                            em_acc.loc[(em_acc.vision == 'contacts') & (em_acc.hmd == 1), 'SE'].values[0],\n",
    "                            em_acc.loc[(em_acc.vision == 'glasses') & (em_acc.hmd == 1), 'SE'].values[0]]},\n",
    "               2: {'mean': [em_acc.loc[(em_acc.vision == 'uncorrected') & (em_acc.hmd == 2), 'emmean'].values[0],\n",
    "                            em_acc.loc[(em_acc.vision == 'contacts') & (em_acc.hmd == 2), 'emmean'].values[0],\n",
    "                            em_acc.loc[(em_acc.vision == 'glasses') & (em_acc.hmd == 2), 'emmean'].values[0]], \n",
    "                   'sem':  [em_acc.loc[(em_acc.vision == 'uncorrected') & (em_acc.hmd == 2), 'SE'].values[0],\n",
    "                            em_acc.loc[(em_acc.vision == 'contacts') & (em_acc.hmd == 2), 'SE'].values[0],\n",
    "                            em_acc.loc[(em_acc.vision == 'glasses') & (em_acc.hmd == 2), 'SE'].values[0]]} }\n",
    "\n",
    "emmeans_std = {1: {'mean': [em_sd.loc[(em_sd.vision == 'uncorrected') & (em_sd.hmd == 1), 'emmean'].values[0],\n",
    "                            em_sd.loc[(em_sd.vision == 'contacts') & (em_sd.hmd == 1), 'emmean'].values[0],\n",
    "                            em_sd.loc[(em_sd.vision == 'glasses') & (em_sd.hmd == 1), 'emmean'].values[0]], \n",
    "                   'sem':  [em_sd.loc[(em_sd.vision == 'uncorrected') & (em_sd.hmd == 1), 'SE'].values[0],\n",
    "                            em_sd.loc[(em_sd.vision == 'contacts') & (em_sd.hmd == 1), 'SE'].values[0],\n",
    "                            em_sd.loc[(em_sd.vision == 'glasses') & (em_sd.hmd == 1), 'SE'].values[0]]},\n",
    "               2: {'mean': [em_sd.loc[(em_sd.vision == 'uncorrected') & (em_sd.hmd == 2), 'emmean'].values[0],\n",
    "                            em_sd.loc[(em_sd.vision == 'contacts') & (em_sd.hmd == 2), 'emmean'].values[0],\n",
    "                            em_sd.loc[(em_sd.vision == 'glasses') & (em_sd.hmd == 2), 'emmean'].values[0]], \n",
    "                   'sem':  [em_sd.loc[(em_sd.vision == 'uncorrected') & (em_sd.hmd == 2), 'SE'].values[0],\n",
    "                            em_sd.loc[(em_sd.vision == 'contacts') & (em_sd.hmd == 2), 'SE'].values[0],\n",
    "                            em_sd.loc[(em_sd.vision == 'glasses') & (em_sd.hmd == 2), 'SE'].values[0]]} }"
   ]
  },
  {
   "cell_type": "code",
   "execution_count": 19,
   "id": "6e0c25a1-8d5d-4472-8920-77e797c299a9",
   "metadata": {},
   "outputs": [],
   "source": [
    "def lmm_accuracy_figure(data, figsize=(3.25, 3.2), dodge=0.075):\n",
    "    \n",
    "    VISION = ['No Correction', 'Contacts', 'Glasses']\n",
    "    LABEL_SIZE = 10\n",
    "    TICK_SIZE = 8\n",
    "    MARKER_SIZE = 5\n",
    "    ERRBAR_WIDTH = 1.2\n",
    "    LINE_WIDTH = 0.8\n",
    "    HMD_COLORS = [Set1_9.mpl_colors[1], Set1_9.mpl_colors[4]]\n",
    "    \n",
    "    fig, ax = plt.subplots(1, 1, figsize=figsize, dpi=150)\n",
    "\n",
    "    handles = []\n",
    "    labels = []\n",
    "    for hmd in data[0].keys():\n",
    "        xs = []\n",
    "        ys_acc = []\n",
    "        ys_std = []\n",
    "        for vx, vision in enumerate(VISION):\n",
    "            c = HMD_COLORS[hmd-1]\n",
    "            if hmd == 1:\n",
    "                x = vx - dodge + 1\n",
    "            else:\n",
    "                x = vx + dodge + 1\n",
    "            \n",
    "            # Accuracy\n",
    "            h1 = ax.errorbar(x, \n",
    "                             data[0][hmd]['mean'][vx], \n",
    "                             yerr=data[0][hmd]['sem'][vx], \n",
    "                             marker='o', \n",
    "                             color=c, \n",
    "                             linewidth=LINE_WIDTH, \n",
    "                             ms=MARKER_SIZE, \n",
    "                             zorder=3, \n",
    "                             label='HMD{:d}'.format(hmd))\n",
    "            ys_acc.append(data[0][hmd]['mean'][vx])\n",
    "            \n",
    "            # SD\n",
    "            h2 = ax.errorbar(x, \n",
    "                             data[1][hmd]['mean'][vx], \n",
    "                             yerr=data[1][hmd]['sem'][vx], \n",
    "                             marker='o', \n",
    "                             color=c, \n",
    "                             markerfacecolor='w', \n",
    "                             linewidth=LINE_WIDTH, \n",
    "                             ms=MARKER_SIZE, \n",
    "                             zorder=3, \n",
    "                             label='HMD{:d}'.format(hmd))\n",
    "            ys_std.append(data[1][hmd]['mean'][vx])\n",
    "            xs.append(x)\n",
    "            \n",
    "            if vx == 0:\n",
    "                handles.append(h1)\n",
    "                labels.append('HMD{:d}'.format(hmd))\n",
    "                            \n",
    "        ax.plot(xs, ys_acc, '-', color=c, linewidth=LINE_WIDTH, zorder=2)\n",
    "        ax.plot(xs, ys_std, ':', color=c, linewidth=LINE_WIDTH, zorder=2)\n",
    "\n",
    "    ax.set_xlim([0.5, 3.5])\n",
    "    ax.set_xticks(np.arange(1, len(VISION) + 1))\n",
    "    ax.set_xticklabels(VISION, fontsize=TICK_SIZE)\n",
    "    \n",
    "    ax.set_xlabel('Vision Correction', fontsize=LABEL_SIZE) \n",
    "    ax.set_ylabel('Estimated Marginal Means (°)', fontsize=LABEL_SIZE)\n",
    "    ax.set_ylim([0, 2])\n",
    "    ax.set_yticks(np.arange(0, 2.5, 0.5))\n",
    "    ax.tick_params(labelsize=TICK_SIZE, width=1.0, length=4, direction='in')\n",
    "    \n",
    "    # Combined Legend\n",
    "    measures = [plt.Line2D([0], [0], color='k', marker='o', ls='-', linewidth=LINE_WIDTH, ms=MARKER_SIZE, label='Accuracy (Gaze Error)'),\n",
    "                plt.Line2D([0], [0], color='k', marker='o', ls=':', markerfacecolor='w', linewidth=LINE_WIDTH, ms=MARKER_SIZE, label='Precision (SD)')]\n",
    "    measures.extend(handles)\n",
    "    leg = ax.legend(handles=measures,\n",
    "                    loc='upper left', \n",
    "                    fontsize=7, \n",
    "                    facecolor='w', \n",
    "                    frameon=True, \n",
    "                    framealpha=0,\n",
    "                    edgecolor='w', \n",
    "                    fancybox=False, \n",
    "                    title_fontsize=TICK_SIZE)\n",
    "\n",
    "    # Open axes\n",
    "    for axis in ['bottom','left']:\n",
    "        ax.spines[axis].set_linewidth(1.2)\n",
    "        ax.spines[axis].set_color('k')\n",
    "    for axis in ['top','right']:\n",
    "        ax.spines[axis].set_linewidth(0)\n",
    "\n",
    "    plt.tight_layout()\n"
   ]
  },
  {
   "cell_type": "code",
   "execution_count": 20,
   "id": "54ce331f-6744-46f7-8e8c-a98be5a1bb0a",
   "metadata": {},
   "outputs": [
    {
     "data": {
      "image/png": "[encoded data removed]",
      "text/plain": [
       "<Figure size 487.5x480 with 1 Axes>"
      ]
     },
     "metadata": {
      "needs_background": "light"
     },
     "output_type": "display_data"
    }
   ],
   "source": [
    "# Figure 6: Estimated Marginal Means\n",
    "lmm_accuracy_figure([emmeans_acc, emmeans_std])\n",
    "for fmt in FIGTYPES:\n",
    "    plt.savefig(os.path.join(folder_results, 'figure6.{:s}'.format(fmt)), bbox_inches='tight', dpi=300)\n"
   ]
  },
  {
   "cell_type": "code",
   "execution_count": null,
   "id": "0b56c15d-0f86-4e74-9ecf-172787cb1918",
   "metadata": {},
   "outputs": [],
   "source": []
  }
 ],
 "metadata": {
  "kernelspec": {
   "display_name": "Python 3 (ipykernel)",
   "language": "python",
   "name": "python3"
  },
  "language_info": {
   "codemirror_mode": {
    "name": "ipython",
    "version": 3
   },
   "file_extension": ".py",
   "mimetype": "text/x-python",
   "name": "python",
   "nbconvert_exporter": "python",
   "pygments_lexer": "ipython3",
   "version": "3.7.6"
  }
 },
 "nbformat": 4,
 "nbformat_minor": 5
}
