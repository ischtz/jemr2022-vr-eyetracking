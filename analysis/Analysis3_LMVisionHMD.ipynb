{
 "cells": [
  {
   "cell_type": "markdown",
   "id": "36936913-5979-43b6-866e-3121523b09b3",
   "metadata": {},
   "source": [
    "# Vive Pro Eye Evaluation - Linear Model for Vision Correction x HMD"
   ]
  },
  {
   "cell_type": "markdown",
   "id": "dde75837-6c88-4a74-9805-ffd68c6c59af",
   "metadata": {},
   "source": [
    "This notebook reproduces the following figures and results from the manuscript: \n",
    "\n",
    "- Linear model results for the factors vision correction x HMD, applied to accuracy and SD precision\n",
    "- Figure 6: LMM results / estimated marginal means\n",
    "\n",
    "Running this notebook requires the `rpy2` Python package and a working R installation. Model statistics are reported directly in the R output, while estimated marginal means are extracted and plotted in Figure 6. Requires the following R packages: `lme4`, `sjstats`, `pwr`, `emmeans`"
   ]
  },
  {
   "cell_type": "code",
   "execution_count": 1,
   "id": "55561f13-39b8-4a2a-af5d-75fda9361444",
   "metadata": {},
   "outputs": [
    {
     "name": "stdout",
     "output_type": "stream",
     "text": [
      "Note: vexptoolbox is not running under Vizard, or Vizard packages could not be imported. Only analysis tools will be available.\n"
     ]
    }
   ],
   "source": [
    "import pickle\n",
    "\n",
    "import numpy as np\n",
    "import pandas as pd\n",
    "import matplotlib.pyplot as plt\n",
    "\n",
    "from matplotlib.colors import Normalize\n",
    "from matplotlib.cm import ScalarMappable\n",
    "from matplotlib.offsetbox import TextArea, DrawingArea, OffsetImage, AnnotationBbox\n",
    "from mpl_toolkits.axes_grid1 import make_axes_locatable\n",
    "\n",
    "from scipy.stats import linregress\n",
    "\n",
    "from analysis import * \n",
    "\n",
    "FIGTYPES = ['png']\n"
   ]
  },
  {
   "cell_type": "code",
   "execution_count": 2,
   "id": "df53d68e-c548-4416-8ded-933a440ad8f2",
   "metadata": {},
   "outputs": [
    {
     "name": "stdout",
     "output_type": "stream",
     "text": [
      "Data loaded from pickles.\n"
     ]
    }
   ],
   "source": [
    "# Folders\n",
    "folder_pkl = '.'\n",
    "folder_results = '../results'\n",
    "\n",
    "# Load preprocessed data\n",
    "(tar, tar_i10, val, pp, sam) = load_pickle_data(folder_pkl)\n"
   ]
  },
  {
   "cell_type": "markdown",
   "id": "5a391581-acf7-434f-b1f2-f27dea3a7bc8",
   "metadata": {},
   "source": [
    "## Linear Model for Accuracy (R)"
   ]
  },
  {
   "cell_type": "code",
   "execution_count": null,
   "id": "dfd7334c-5c84-4114-9f88-283dd004b6cd",
   "metadata": {},
   "outputs": [],
   "source": [
    "# Initialize rpy2 extension for Jupyter (enables R code cells)\n",
    "%load_ext rpy2.ipython\n",
    "\n",
    "# rpy2 on Windows likes to throw error pop-ups about utf-8 decoding, suppress these here\n",
    "from rpy2.rinterface_lib.callbacks import logger as rpy2_logger\n",
    "import logging\n",
    "rpy2_logger.setLevel(logging.CRITICAL)\n"
   ]
  },
  {
   "cell_type": "code",
   "execution_count": null,
   "id": "72a963b0-f1fa-4b45-982d-2a98c0e2814f",
   "metadata": {},
   "outputs": [],
   "source": [
    "%%R\n",
    "print(R.version$version)\n"
   ]
  },
  {
   "cell_type": "code",
   "execution_count": null,
   "id": "7a5318f1-2158-4e30-b5f7-a0103c5e1a48",
   "metadata": {},
   "outputs": [],
   "source": [
    "%%R -i val -o em_acc -o model_acc\n",
    "\n",
    "library('lme4')\n",
    "library('emmeans')\n",
    "library('sjstats')\n",
    "\n",
    "formula <- acc_nomonoc ~ 1 + vision + hmd + vision:hmd\n",
    "model_acc <- lm(data=val, formula)\n",
    "\n",
    "# Model + Anova results\n",
    "cat('* ANOVA Omnibus Results + Statistics: Accuracy')\n",
    "print(summary(model_acc))\n",
    "print(anova_stats(model_acc))\n",
    "\n",
    "# Post-Hoc Tests\n",
    "cat('\\n\\n* Post-Hoc Comparisons: Accuracy')\n",
    "print(emmeans(model_acc, pairwise ~ vision, adjust=\"holm\")$contrasts)\n",
    "print(emmeans(model_acc, pairwise ~ hmd, adjust=\"holm\")$contrasts)\n",
    "\n",
    "# Export estimated marginal means (for Figure 6)\n",
    "em_acc <- summary(emmeans(model_acc, specs = ~ 'vision * hmd'))\n"
   ]
  },
  {
   "cell_type": "markdown",
   "id": "9c7d1dfc-88f7-4e6a-b0a6-7a80aab3a2c7",
   "metadata": {},
   "source": [
    "## Linear Model for SD Precision (R)"
   ]
  },
  {
   "cell_type": "code",
   "execution_count": null,
   "id": "971ef71b-5736-4ef3-9e0f-f7a6e1de73a0",
   "metadata": {},
   "outputs": [],
   "source": [
    "%%R -i val -o em_sd -o model_sd\n",
    "\n",
    "library('lme4')\n",
    "library('emmeans')\n",
    "library('sjstats')\n",
    "\n",
    "formula <- sd_nomonoc ~ 1 + vision + hmd + vision:hmd\n",
    "model_sd <- lm(data=val, formula)\n",
    "\n",
    "# Model + Anova results\n",
    "cat('* ANOVA Omnibus Results + Statistics: SD Precision')\n",
    "print(summary(model_sd))\n",
    "print(anova_stats(model_sd))\n",
    "\n",
    "# Post-Hoc Tests\n",
    "cat('\\n\\n* Post-Hoc Comparisons: SD Precision')\n",
    "print(emmeans(model_sd, pairwise ~ vision, adjust=\"holm\")$contrasts)\n",
    "print(emmeans(model_sd, pairwise ~ hmd, adjust=\"holm\")$contrasts)\n",
    "\n",
    "# Export estimated marginal means (for Figure 6)\n",
    "em_sd <- summary(emmeans(model_sd, specs = ~ 'vision * hmd'))\n"
   ]
  },
  {
   "cell_type": "code",
   "execution_count": null,
   "id": "283d3106-c79b-41bc-a17e-8f80c837c710",
   "metadata": {},
   "outputs": [],
   "source": [
    "# Estimated Marginal Means - Accuracy\n",
    "round(em_acc, 3)"
   ]
  },
  {
   "cell_type": "code",
   "execution_count": null,
   "id": "440ba821-041b-4c61-98ee-8f5a4f956d80",
   "metadata": {
    "tags": []
   },
   "outputs": [],
   "source": [
    "# Estimated Marginal Means - SD Precision\n",
    "round(em_sd, 3)"
   ]
  },
  {
   "cell_type": "markdown",
   "id": "a83df00d-e3a3-4f28-b01c-a88512092421",
   "metadata": {},
   "source": [
    "## Figure 6: Linear Model results"
   ]
  },
  {
   "cell_type": "code",
   "execution_count": null,
   "id": "1a2c9212-5845-4c53-8d57-d50e04444aae",
   "metadata": {},
   "outputs": [],
   "source": [
    "# Restructure the R results into the same dict structure used to plot\n",
    "emmeans_acc = {'HMD 1': {'mean': [em_acc.loc[(em_acc.vision == 'uncorrected') & (em_acc.hmd == 1), 'emmean'].values[0],\n",
    "                            em_acc.loc[(em_acc.vision == 'contacts') & (em_acc.hmd == 1), 'emmean'].values[0],\n",
    "                            em_acc.loc[(em_acc.vision == 'glasses') & (em_acc.hmd == 1), 'emmean'].values[0]], \n",
    "                         'sem':  [em_acc.loc[(em_acc.vision == 'uncorrected') & (em_acc.hmd == 1), 'SE'].values[0],\n",
    "                            em_acc.loc[(em_acc.vision == 'contacts') & (em_acc.hmd == 1), 'SE'].values[0],\n",
    "                            em_acc.loc[(em_acc.vision == 'glasses') & (em_acc.hmd == 1), 'SE'].values[0]]},\n",
    "               'HMD 2': {'mean': [em_acc.loc[(em_acc.vision == 'uncorrected') & (em_acc.hmd == 2), 'emmean'].values[0],\n",
    "                            em_acc.loc[(em_acc.vision == 'contacts') & (em_acc.hmd == 2), 'emmean'].values[0],\n",
    "                            em_acc.loc[(em_acc.vision == 'glasses') & (em_acc.hmd == 2), 'emmean'].values[0]], \n",
    "                         'sem':  [em_acc.loc[(em_acc.vision == 'uncorrected') & (em_acc.hmd == 2), 'SE'].values[0],\n",
    "                            em_acc.loc[(em_acc.vision == 'contacts') & (em_acc.hmd == 2), 'SE'].values[0],\n",
    "                            em_acc.loc[(em_acc.vision == 'glasses') & (em_acc.hmd == 2), 'SE'].values[0]]} }\n",
    "\n",
    "emmeans_std = {'HMD 1': {'mean': [em_sd.loc[(em_sd.vision == 'uncorrected') & (em_sd.hmd == 1), 'emmean'].values[0],\n",
    "                            em_sd.loc[(em_sd.vision == 'contacts') & (em_sd.hmd == 1), 'emmean'].values[0],\n",
    "                            em_sd.loc[(em_sd.vision == 'glasses') & (em_sd.hmd == 1), 'emmean'].values[0]], \n",
    "                         'sem':  [em_sd.loc[(em_sd.vision == 'uncorrected') & (em_sd.hmd == 1), 'SE'].values[0],\n",
    "                            em_sd.loc[(em_sd.vision == 'contacts') & (em_sd.hmd == 1), 'SE'].values[0],\n",
    "                            em_sd.loc[(em_sd.vision == 'glasses') & (em_sd.hmd == 1), 'SE'].values[0]]},\n",
    "               'HMD 2': {'mean': [em_sd.loc[(em_sd.vision == 'uncorrected') & (em_sd.hmd == 2), 'emmean'].values[0],\n",
    "                            em_sd.loc[(em_sd.vision == 'contacts') & (em_sd.hmd == 2), 'emmean'].values[0],\n",
    "                            em_sd.loc[(em_sd.vision == 'glasses') & (em_sd.hmd == 2), 'emmean'].values[0]], \n",
    "                         'sem':  [em_sd.loc[(em_sd.vision == 'uncorrected') & (em_sd.hmd == 2), 'SE'].values[0],\n",
    "                            em_sd.loc[(em_sd.vision == 'contacts') & (em_sd.hmd == 2), 'SE'].values[0],\n",
    "                            em_sd.loc[(em_sd.vision == 'glasses') & (em_sd.hmd == 2), 'SE'].values[0]]} }"
   ]
  },
  {
   "cell_type": "code",
   "execution_count": null,
   "id": "6e0c25a1-8d5d-4472-8920-77e797c299a9",
   "metadata": {},
   "outputs": [],
   "source": [
    "def lmm_accuracy_figure(data, figsize=(3.25, 3.2), dodge=0.09):\n",
    "    \n",
    "    VISION = ['No Correction', 'Contacts', 'Glasses']\n",
    "    LABEL_SIZE = 10\n",
    "    TICK_SIZE = 8\n",
    "    MARKER_SIZE = 4\n",
    "    ERRBAR_WIDTH = 1.2\n",
    "    LINE_WIDTH = 0.8\n",
    "    HMD_COLORS = [Set1_9.mpl_colors[1], Set1_9.mpl_colors[4], (0.5, 0.5, 0.5)]\n",
    "    \n",
    "    fig, ax = plt.subplots(1, 1, figsize=figsize, dpi=150)\n",
    "\n",
    "    handles = []\n",
    "    labels = []\n",
    "    for h_ix, hmd in enumerate(data[0].keys()):\n",
    "        xs = []\n",
    "        ys_acc = []\n",
    "        ys_std = []\n",
    "        for vx, vision in enumerate(VISION):\n",
    "            c = HMD_COLORS[h_ix]\n",
    "            if hmd == 'HMD 1':\n",
    "                x = vx - dodge + 1\n",
    "            elif hmd == 'HMD 2':\n",
    "                x = vx + dodge + 1\n",
    "            else:\n",
    "                x = vx + 1\n",
    "            \n",
    "            # Accuracy\n",
    "            h1 = ax.errorbar(x, \n",
    "                             data[0][hmd]['mean'][vx], \n",
    "                             yerr=data[0][hmd]['sem'][vx], \n",
    "                             marker='o', \n",
    "                             color=c, \n",
    "                             linewidth=LINE_WIDTH, \n",
    "                             ms=MARKER_SIZE, \n",
    "                             zorder=3, \n",
    "                             label=hmd,\n",
    "                            elinewidth=ERRBAR_WIDTH)\n",
    "            ys_acc.append(data[0][hmd]['mean'][vx])\n",
    "            \n",
    "            # SD\n",
    "            h2 = ax.errorbar(x, \n",
    "                             data[1][hmd]['mean'][vx], \n",
    "                             yerr=data[1][hmd]['sem'][vx], \n",
    "                             marker='o', \n",
    "                             color=c, \n",
    "                             markerfacecolor='w', \n",
    "                             linewidth=LINE_WIDTH, \n",
    "                             ms=MARKER_SIZE, \n",
    "                             zorder=3, \n",
    "                             label=hmd,\n",
    "                            elinewidth=ERRBAR_WIDTH)\n",
    "            ys_std.append(data[1][hmd]['mean'][vx])\n",
    "            xs.append(x)\n",
    "            \n",
    "            if vx == 0:\n",
    "                handles.append(h1)\n",
    "                labels.append(hmd)\n",
    "                            \n",
    "        ax.plot(xs, ys_acc, '-', color=c, linewidth=LINE_WIDTH, zorder=2)\n",
    "        ax.plot(xs, ys_std, ':', color=c, linewidth=LINE_WIDTH, zorder=2)\n",
    "\n",
    "    ax.set_xlim([0.5, 3.5])\n",
    "    ax.set_xticks(np.arange(1, len(VISION) + 1))\n",
    "    ax.set_xticklabels(VISION, fontsize=TICK_SIZE)\n",
    "    \n",
    "    ax.set_xlabel('Vision Correction', fontsize=LABEL_SIZE) \n",
    "    ax.set_ylabel('Estimated Marginal Means (°)', fontsize=LABEL_SIZE)\n",
    "    ax.set_ylim([0, 2])\n",
    "    ax.set_yticks(np.arange(0, 2.5, 0.5))\n",
    "    ax.tick_params(labelsize=TICK_SIZE, width=1.0, length=4, direction='in')\n",
    "    \n",
    "    # Combined Legend\n",
    "    measures = [plt.Line2D([0], [0], color='k', marker='o', ls='-', linewidth=LINE_WIDTH, ms=MARKER_SIZE, label='Accuracy (Gaze Error)'),\n",
    "                plt.Line2D([0], [0], color='k', marker='o', ls=':', markerfacecolor='w', linewidth=LINE_WIDTH, ms=MARKER_SIZE, label='Precision (SD)')]\n",
    "    if len(data[0].keys()) > 1:\n",
    "        measures.extend(handles)\n",
    "    leg = ax.legend(handles=measures,\n",
    "                    loc='upper left', \n",
    "                    fontsize=7, \n",
    "                    facecolor='w', \n",
    "                    frameon=True, \n",
    "                    framealpha=0,\n",
    "                    edgecolor='w', \n",
    "                    fancybox=False, \n",
    "                    title_fontsize=TICK_SIZE)\n",
    "\n",
    "    # Open axes\n",
    "    for axis in ['bottom','left']:\n",
    "        ax.spines[axis].set_linewidth(1.2)\n",
    "        ax.spines[axis].set_color('k')\n",
    "    for axis in ['top','right']:\n",
    "        ax.spines[axis].set_linewidth(0)\n",
    "\n",
    "    plt.tight_layout()\n"
   ]
  },
  {
   "cell_type": "code",
   "execution_count": null,
   "id": "54ce331f-6744-46f7-8e8c-a98be5a1bb0a",
   "metadata": {},
   "outputs": [],
   "source": [
    "# Figure 6: Estimated Marginal Means\n",
    "lmm_accuracy_figure([emmeans_acc, emmeans_std])\n",
    "for fmt in FIGTYPES:\n",
    "    plt.savefig(os.path.join(folder_results, 'figure6_old.{:s}'.format(fmt)), bbox_inches='tight', dpi=300)\n"
   ]
  },
  {
   "cell_type": "markdown",
   "id": "d5b28e1e-6da5-43c6-933e-bad482e2e985",
   "metadata": {},
   "source": [
    "## Linear model across HMDs (Revision)"
   ]
  },
  {
   "cell_type": "code",
   "execution_count": null,
   "id": "541282ea-a2cb-466f-b5d9-2ad5541ac8a2",
   "metadata": {},
   "outputs": [],
   "source": [
    "%%R -i val -o em_acc_nohmd -o model_acc_nohmd\n",
    "\n",
    "library('lme4')\n",
    "library('emmeans')\n",
    "library('sjstats')\n",
    "\n",
    "formula <- acc_nomonoc ~ 1 + vision\n",
    "model_acc_nohmd <- lm(data=val, formula)\n",
    "\n",
    "# Model + Anova results\n",
    "cat('* ANOVA Omnibus Results + Statistics: Accuracy (across HMDs)')\n",
    "print(summary(model_acc_nohmd))\n",
    "print(anova_stats(model_acc_nohmd))\n",
    "\n",
    "# Post-Hoc Tests\n",
    "cat('\\n\\n* Post-Hoc Comparisons: Accuracy (across HMDs)')\n",
    "print(emmeans(model_acc_nohmd, pairwise ~ vision, adjust=\"holm\")$contrasts)\n",
    "\n",
    "# Export estimated marginal means (for Figure 6)\n",
    "em_acc_nohmd <- summary(emmeans(model_acc_nohmd, specs = ~ 'vision'))\n"
   ]
  },
  {
   "cell_type": "code",
   "execution_count": null,
   "id": "091ae525-7ed1-4933-b5f0-bd21f50996af",
   "metadata": {},
   "outputs": [],
   "source": [
    "%%R -i val -o em_sd_nohmd -o model_sd_nohmd\n",
    "\n",
    "library('lme4')\n",
    "library('emmeans')\n",
    "library('sjstats')\n",
    "\n",
    "formula <- sd_nomonoc ~ 1 + vision\n",
    "model_sd_nohmd <- lm(data=val, formula)\n",
    "\n",
    "# Model + Anova results\n",
    "cat('* ANOVA Omnibus Results + Statistics: SD Precision')\n",
    "print(summary(model_sd_nohmd))\n",
    "print(anova_stats(model_sd_nohmd))\n",
    "\n",
    "# Post-Hoc Tests\n",
    "cat('\\n\\n* Post-Hoc Comparisons: SD Precision')\n",
    "print(emmeans(model_sd_nohmd, pairwise ~ vision, adjust=\"holm\")$contrasts)\n",
    "\n",
    "# Export estimated marginal means (for Figure 6)\n",
    "em_sd_nohmd <- summary(emmeans(model_sd_nohmd, specs = ~ 'vision'))\n"
   ]
  },
  {
   "cell_type": "code",
   "execution_count": null,
   "id": "31025b41-84d5-451f-aceb-7e13f7472471",
   "metadata": {},
   "outputs": [],
   "source": [
    "# Add across-HMD model result to Figure 6 \n",
    "emmeans_acc = {'HMD 1': {'mean': [em_acc.loc[(em_acc.vision == 'uncorrected') & (em_acc.hmd == 1), 'emmean'].values[0],\n",
    "                            em_acc.loc[(em_acc.vision == 'contacts') & (em_acc.hmd == 1), 'emmean'].values[0],\n",
    "                            em_acc.loc[(em_acc.vision == 'glasses') & (em_acc.hmd == 1), 'emmean'].values[0]], \n",
    "                         'sem':  [em_acc.loc[(em_acc.vision == 'uncorrected') & (em_acc.hmd == 1), 'SE'].values[0],\n",
    "                            em_acc.loc[(em_acc.vision == 'contacts') & (em_acc.hmd == 1), 'SE'].values[0],\n",
    "                            em_acc.loc[(em_acc.vision == 'glasses') & (em_acc.hmd == 1), 'SE'].values[0]]},\n",
    "               'HMD 2': {'mean': [em_acc.loc[(em_acc.vision == 'uncorrected') & (em_acc.hmd == 2), 'emmean'].values[0],\n",
    "                            em_acc.loc[(em_acc.vision == 'contacts') & (em_acc.hmd == 2), 'emmean'].values[0],\n",
    "                            em_acc.loc[(em_acc.vision == 'glasses') & (em_acc.hmd == 2), 'emmean'].values[0]], \n",
    "                         'sem':  [em_acc.loc[(em_acc.vision == 'uncorrected') & (em_acc.hmd == 2), 'SE'].values[0],\n",
    "                            em_acc.loc[(em_acc.vision == 'contacts') & (em_acc.hmd == 2), 'SE'].values[0],\n",
    "                            em_acc.loc[(em_acc.vision == 'glasses') & (em_acc.hmd == 2), 'SE'].values[0]]},\n",
    "              'Across HMDs': {'mean': [em_acc_nohmd.loc[em_acc_nohmd.vision == 'uncorrected', 'emmean'].values[0],\n",
    "                             em_acc_nohmd.loc[em_acc_nohmd.vision == 'contacts', 'emmean'].values[0],\n",
    "                             em_acc_nohmd.loc[em_acc_nohmd.vision == 'glasses', 'emmean'].values[0]], \n",
    "                        'sem':  [em_acc_nohmd.loc[em_acc_nohmd.vision == 'uncorrected', 'SE'].values[0],\n",
    "                             em_acc_nohmd.loc[em_acc_nohmd.vision == 'contacts', 'SE'].values[0],\n",
    "                                em_acc_nohmd.loc[em_acc_nohmd.vision == 'glasses', 'SE'].values[0]]} }\n",
    "\n",
    "emmeans_std = {'HMD 1': {'mean': [em_sd.loc[(em_sd.vision == 'uncorrected') & (em_sd.hmd == 1), 'emmean'].values[0],\n",
    "                            em_sd.loc[(em_sd.vision == 'contacts') & (em_sd.hmd == 1), 'emmean'].values[0],\n",
    "                            em_sd.loc[(em_sd.vision == 'glasses') & (em_sd.hmd == 1), 'emmean'].values[0]], \n",
    "                         'sem':  [em_sd.loc[(em_sd.vision == 'uncorrected') & (em_sd.hmd == 1), 'SE'].values[0],\n",
    "                            em_sd.loc[(em_sd.vision == 'contacts') & (em_sd.hmd == 1), 'SE'].values[0],\n",
    "                            em_sd.loc[(em_sd.vision == 'glasses') & (em_sd.hmd == 1), 'SE'].values[0]]},\n",
    "               \n",
    "               'HMD 2': {'mean': [em_sd.loc[(em_sd.vision == 'uncorrected') & (em_sd.hmd == 2), 'emmean'].values[0],\n",
    "                            em_sd.loc[(em_sd.vision == 'contacts') & (em_sd.hmd == 2), 'emmean'].values[0],\n",
    "                            em_sd.loc[(em_sd.vision == 'glasses') & (em_sd.hmd == 2), 'emmean'].values[0]], \n",
    "                         'sem':  [em_sd.loc[(em_sd.vision == 'uncorrected') & (em_sd.hmd == 2), 'SE'].values[0],\n",
    "                            em_sd.loc[(em_sd.vision == 'contacts') & (em_sd.hmd == 2), 'SE'].values[0],\n",
    "                            em_sd.loc[(em_sd.vision == 'glasses') & (em_sd.hmd == 2), 'SE'].values[0]]},\n",
    "              \n",
    "                'Across HMDs': {'mean': [em_sd_nohmd.loc[em_sd_nohmd.vision == 'uncorrected', 'emmean'].values[0],\n",
    "                             em_sd_nohmd.loc[em_sd_nohmd.vision == 'contacts', 'emmean'].values[0],\n",
    "                             em_sd_nohmd.loc[em_sd_nohmd.vision == 'glasses', 'emmean'].values[0]], \n",
    "                    'sem':  [em_sd_nohmd.loc[em_sd_nohmd.vision == 'uncorrected', 'SE'].values[0],\n",
    "                             em_sd_nohmd.loc[em_sd_nohmd.vision == 'contacts', 'SE'].values[0],\n",
    "                             em_sd_nohmd.loc[em_sd_nohmd.vision == 'glasses', 'SE'].values[0]]}}\n"
   ]
  },
  {
   "cell_type": "code",
   "execution_count": null,
   "id": "63d31cbf-7ef1-4080-b8ed-3d3e9bd39762",
   "metadata": {},
   "outputs": [],
   "source": [
    "# Figure 6: Estimated Marginal Means\n",
    "lmm_accuracy_figure([emmeans_acc, emmeans_std])\n",
    "for fmt in FIGTYPES:\n",
    "    plt.savefig(os.path.join(folder_results, 'figure6.{:s}'.format(fmt)), bbox_inches='tight', dpi=300)\n"
   ]
  },
  {
   "cell_type": "code",
   "execution_count": null,
   "id": "4ac43c2c-5600-4847-b198-5c772a433394",
   "metadata": {},
   "outputs": [],
   "source": [
    "%%R -i model_acc -i model_sd -i model_acc_nohmd -i model_sd_nohmd\n",
    "\n",
    "# Model comparison\n",
    "cat('* Model Comparison: Accuracy\\n')\n",
    "print(anova(model_acc_nohmd, model_acc))\n",
    "\n",
    "cat('\\n\\n* Model Comparison: SD Precision\\n')\n",
    "print(anova(model_sd_nohmd, model_sd))"
   ]
  },
  {
   "cell_type": "code",
   "execution_count": null,
   "id": "84e0323b-163d-45af-9470-8f83ff72447a",
   "metadata": {},
   "outputs": [],
   "source": []
  }
 ],
 "metadata": {
  "kernelspec": {
   "display_name": "Python 3 (ipykernel)",
   "language": "python",
   "name": "python3"
  },
  "language_info": {
   "codemirror_mode": {
    "name": "ipython",
    "version": 3
   },
   "file_extension": ".py",
   "mimetype": "text/x-python",
   "name": "python",
   "nbconvert_exporter": "python",
   "pygments_lexer": "ipython3",
   "version": "3.7.6"
  }
 },
 "nbformat": 4,
 "nbformat_minor": 5
}
